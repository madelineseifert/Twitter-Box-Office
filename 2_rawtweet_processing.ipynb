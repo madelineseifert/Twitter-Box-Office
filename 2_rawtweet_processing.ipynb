{
 "cells": [
  {
   "cell_type": "markdown",
   "metadata": {},
   "source": [
    "This script processes the csv files containing tweet messages mentioning current movies in theater (retrieved by the script *pull_twitter_data*).\n",
    "\n",
    "Several additional inputs were used in this script: 1) a csv file containing daily box office for each movie currently in theater; 2) a csv file containing the release date for each movie; 3) a csv file containing the weighed average of IMDB and Rotten Tomatoes user rating of the movie; 4) a csv file containing the twitter follower count for the top 3 billed actors for each movie.\n",
    "    \n",
    "The output of this script is a table containing: name of film, box office on a particular day, tweet movies of the film on this day, how many days has the film been released on this day, whether this day is a weekday or weekend (Friday is considered weekend for this purpose)"
   ]
  },
  {
   "cell_type": "code",
   "execution_count": 1,
   "metadata": {},
   "outputs": [],
   "source": [
    "# Dependencies\n",
    "import pandas as pd\n",
    "from datetime import datetime\n",
    "from blacklist import blacklist\n",
    "from movies_to_process import movie_list"
   ]
  },
  {
   "cell_type": "code",
   "execution_count": 2,
   "metadata": {},
   "outputs": [],
   "source": [
    "def currecyconvert(currencystring):\n",
    "    s1 = currencystring.split(\"$\")[1]\n",
    "    s2 = s1.split(\",\")\n",
    "    s3 = \"\".join(s for s in s2)\n",
    "    money = int(s3)\n",
    "    return money"
   ]
  },
  {
   "cell_type": "code",
   "execution_count": 3,
   "metadata": {},
   "outputs": [],
   "source": [
    "boxoffice = pd.read_csv('input/boxoffice.csv').set_index(\"title\")\n",
    "boxoffice = boxoffice.applymap(currecyconvert)\n",
    "\n",
    "releasedate = pd.read_csv('input/releasedate.csv').set_index(\"title\")\n",
    "\n",
    "star = pd.read_csv('input/starmeter.csv').set_index(\"title\")\n",
    "star = pd.DataFrame(star.sum(axis = 1)).rename(columns={0:\"starmeter\"})\n",
    "\n",
    "theaters = pd.read_csv('input/theatercount.csv').set_index(\"title\")"
   ]
  },
  {
   "cell_type": "code",
   "execution_count": 4,
   "metadata": {},
   "outputs": [],
   "source": [
    "allfilms_df = pd.DataFrame({\"day\":[], \n",
    "                            \"daily tweet count\":[], \n",
    "                            \"day of week\":[], \n",
    "                            \"title\":[], \n",
    "                            \"box office\":[], \n",
    "                            \"days since release\":[], \n",
    "                            \"weekend\":[],\n",
    "                            \"star\":[],\n",
    "                            \"theaters\":[]})"
   ]
  },
  {
   "cell_type": "code",
   "execution_count": 5,
   "metadata": {},
   "outputs": [
    {
     "name": "stdout",
     "output_type": "stream",
     "text": [
      "processing RampageMovie\n",
      "processing InfinityWar\n",
      "processing Deadpool2\n",
      "processing AdriftMovie\n",
      "processing Hereditary\n",
      "processing Oceans8\n",
      "processing MrRogersMovie\n",
      "processing Gotti\n",
      "processing TagMovie\n",
      "processing JurassicWorld\n",
      "processing LeaveNoTrace\n",
      "processing sanju\n",
      "processing Sicario\n",
      "processing UncleDrew\n",
      "processing TheFirstPurge\n",
      "processing AntMan\n",
      "processing SorryToBotherYou\n",
      "processing Soorma\n",
      "processing EighthGrade\n",
      "processing HotelT3\n",
      "processing SkyscraperMovie\n",
      "processing Incredibles2\n",
      "processing Blindspotting\n",
      "processing MammaMia2\n",
      "processing TheEqualizer2\n",
      "processing UnfriendedMovie\n",
      "processing MissionImpossible\n",
      "processing TeenTitansGOMovie\n",
      "processing ChristopherRobin\n",
      "processing nevergoinback\n",
      "processing TheSpyWhoDumpedMe\n",
      "done\n"
     ]
    }
   ],
   "source": [
    "for movie in movie_list:\n",
    "    print(f'processing {movie}')\n",
    "    df = pd.read_csv(f\"rawtweets/{movie}.csv\")\n",
    "    blacklist_flag = []\n",
    "    converted_time = []\n",
    "    \n",
    "    for message in df.text:\n",
    "        if any(word in message for word in blacklist): #check if the tweet message contains any of the blacklisted words\n",
    "            blacklist_flag.append(\"yes\")\n",
    "        else:\n",
    "            blacklist_flag.append(\"no\")\n",
    "    \n",
    "    for raw_time in df.rawtime:\n",
    "        converted_time.append(datetime.strptime(str(raw_time), \"%a %b %d %H:%M:%S %z %Y\"))\n",
    "    \n",
    "    df['blacklist'] = blacklist_flag\n",
    "    df['time'] = converted_time\n",
    "    \n",
    "    date = pd.to_datetime(df[\"time\"])\n",
    "    df['day of week'] = date.dt.weekday\n",
    "    df[\"day\"] = date.dt.day\n",
    "    df['month'] = date.dt.month\n",
    "    \n",
    "    for row_index in range(len(df)):\n",
    "        if df.loc[row_index,\"month\"] == 8:\n",
    "            df.loc[row_index,\"day\"] = df.loc[row_index,\"day\"]+31\n",
    "    del df[\"rawtime\"]    \n",
    "    del df[\"month\"]\n",
    "    \n",
    "    df = df.loc[(df[\"blacklist\"] == \"no\") , :].reset_index(drop= True)\n",
    "    del df[\"blacklist\"]\n",
    "    \n",
    "    df.to_csv(f\"processedtweets/{movie}.csv\", index=False, header=True)\n",
    "    \n",
    "    grouped = df.groupby(['day'])\n",
    "    daily_tweet_count = grouped[\"text\"].count()\n",
    "    day_of_week = grouped[\"day of week\"].mean() #within each group, \"day of the week\" is the same, so mean = \"day of the week\" for the group\n",
    "    tally = pd.DataFrame(data=dict(s1=daily_tweet_count, s2=day_of_week)).reset_index()\n",
    "    tally = tally.rename(columns={\"s1\":\"daily tweet count\", \"s2\":\"day of week\"})\n",
    "    \n",
    "    tally['title'] = movie\n",
    "    tally['box office'] = ''\n",
    "    tally['days since release'] = ''\n",
    "    tally['weekend'] = ''\n",
    "    tally['star'] = ''\n",
    "    tally['theaters'] = ''\n",
    "    \n",
    "    firstday = tally[\"day\"].min()\n",
    "    \n",
    "    \n",
    "    # trim out the earliest day in the twitter data because the earliest day does not have a complete day of tweet record\n",
    "    # trim out any days after day 36 (Sunday August 5th)\n",
    "    trimmed_tally = tally.loc[(tally[\"day\"]>firstday) & (tally[\"day\"]<=36), :].reset_index(drop = True)\n",
    "    \n",
    "    for row_index in range(len(trimmed_tally)):\n",
    "        if trimmed_tally.loc[row_index, \"day of week\"] in [0, 1, 2, 3]:\n",
    "            trimmed_tally.loc[row_index, \"weekend\"] = 0\n",
    "        else:\n",
    "            trimmed_tally.loc[row_index, \"weekend\"] = 1\n",
    "    \n",
    "        current_date = trimmed_tally.loc[row_index,\"day\"]\n",
    "        trimmed_tally.loc[row_index,\"days since release\"] = current_date - releasedate.loc[movie, \"Opening Date\"]\n",
    "        trimmed_tally.loc[row_index,\"box office\"] = boxoffice.loc[movie, str(current_date)]\n",
    "        trimmed_tally.loc[row_index,\"star\"] = star.loc[movie, \"starmeter\"]\n",
    "        trimmed_tally.loc[row_index,\"theaters\"] = theaters.loc[movie, str(current_date)]\n",
    "\n",
    "    allfilms_df = pd.concat([allfilms_df, trimmed_tally]).reset_index(drop = True) \n",
    "print('done')\n",
    "allfilms_df.to_csv(f\"analysis_results/all_data.csv\", index=False, header=True)"
   ]
  },
  {
   "cell_type": "code",
   "execution_count": null,
   "metadata": {},
   "outputs": [],
   "source": []
  }
 ],
 "metadata": {
  "kernelspec": {
   "display_name": "Python 3",
   "language": "python",
   "name": "python3"
  },
  "language_info": {
   "codemirror_mode": {
    "name": "ipython",
    "version": 3
   },
   "file_extension": ".py",
   "mimetype": "text/x-python",
   "name": "python",
   "nbconvert_exporter": "python",
   "pygments_lexer": "ipython3",
   "version": "3.6.5"
  }
 },
 "nbformat": 4,
 "nbformat_minor": 2
}
