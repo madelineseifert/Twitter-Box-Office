{
 "cells": [
  {
   "cell_type": "markdown",
   "metadata": {},
   "source": [
    "#### This script predicts the opening box office per theater for the films released on August 10th using random forest regressor.\n",
    "\n",
    "#### The regressor is trained on data for all released films, parameters included are \"daily tweet count\", \"weekday or weekend\", \"days since release\""
   ]
  },
  {
   "cell_type": "code",
   "execution_count": 1,
   "metadata": {},
   "outputs": [],
   "source": [
    "import numpy as np\n",
    "import pandas as pd\n",
    "import matplotlib.pyplot as plt\n",
    "from sklearn.ensemble import RandomForestRegressor"
   ]
  },
  {
   "cell_type": "code",
   "execution_count": 2,
   "metadata": {},
   "outputs": [
    {
     "data": {
      "text/html": [
       "<div>\n",
       "<style scoped>\n",
       "    .dataframe tbody tr th:only-of-type {\n",
       "        vertical-align: middle;\n",
       "    }\n",
       "\n",
       "    .dataframe tbody tr th {\n",
       "        vertical-align: top;\n",
       "    }\n",
       "\n",
       "    .dataframe thead th {\n",
       "        text-align: right;\n",
       "    }\n",
       "</style>\n",
       "<table border=\"1\" class=\"dataframe\">\n",
       "  <thead>\n",
       "    <tr style=\"text-align: right;\">\n",
       "      <th></th>\n",
       "      <th>day</th>\n",
       "      <th>daily tweet count</th>\n",
       "      <th>day of week</th>\n",
       "      <th>title</th>\n",
       "      <th>box office</th>\n",
       "      <th>days since release</th>\n",
       "      <th>weekend</th>\n",
       "      <th>star</th>\n",
       "      <th>theaters</th>\n",
       "      <th>box office per theater</th>\n",
       "    </tr>\n",
       "  </thead>\n",
       "  <tbody>\n",
       "    <tr>\n",
       "      <th>0</th>\n",
       "      <td>18.0</td>\n",
       "      <td>55.0</td>\n",
       "      <td>2.0</td>\n",
       "      <td>RampageMovie</td>\n",
       "      <td>5.098</td>\n",
       "      <td>97.0</td>\n",
       "      <td>0.0</td>\n",
       "      <td>1721.0</td>\n",
       "      <td>61.0</td>\n",
       "      <td>0.083574</td>\n",
       "    </tr>\n",
       "    <tr>\n",
       "      <th>1</th>\n",
       "      <td>19.0</td>\n",
       "      <td>46.0</td>\n",
       "      <td>3.0</td>\n",
       "      <td>RampageMovie</td>\n",
       "      <td>4.059</td>\n",
       "      <td>98.0</td>\n",
       "      <td>0.0</td>\n",
       "      <td>1721.0</td>\n",
       "      <td>61.0</td>\n",
       "      <td>0.066541</td>\n",
       "    </tr>\n",
       "    <tr>\n",
       "      <th>2</th>\n",
       "      <td>20.0</td>\n",
       "      <td>35.0</td>\n",
       "      <td>4.0</td>\n",
       "      <td>RampageMovie</td>\n",
       "      <td>35.295</td>\n",
       "      <td>99.0</td>\n",
       "      <td>1.0</td>\n",
       "      <td>1721.0</td>\n",
       "      <td>114.0</td>\n",
       "      <td>0.309605</td>\n",
       "    </tr>\n",
       "    <tr>\n",
       "      <th>3</th>\n",
       "      <td>21.0</td>\n",
       "      <td>41.0</td>\n",
       "      <td>5.0</td>\n",
       "      <td>RampageMovie</td>\n",
       "      <td>49.155</td>\n",
       "      <td>100.0</td>\n",
       "      <td>1.0</td>\n",
       "      <td>1721.0</td>\n",
       "      <td>114.0</td>\n",
       "      <td>0.431184</td>\n",
       "    </tr>\n",
       "    <tr>\n",
       "      <th>4</th>\n",
       "      <td>22.0</td>\n",
       "      <td>27.0</td>\n",
       "      <td>6.0</td>\n",
       "      <td>RampageMovie</td>\n",
       "      <td>40.598</td>\n",
       "      <td>101.0</td>\n",
       "      <td>1.0</td>\n",
       "      <td>1721.0</td>\n",
       "      <td>114.0</td>\n",
       "      <td>0.356123</td>\n",
       "    </tr>\n",
       "  </tbody>\n",
       "</table>\n",
       "</div>"
      ],
      "text/plain": [
       "    day  daily tweet count  day of week         title  box office  \\\n",
       "0  18.0               55.0          2.0  RampageMovie       5.098   \n",
       "1  19.0               46.0          3.0  RampageMovie       4.059   \n",
       "2  20.0               35.0          4.0  RampageMovie      35.295   \n",
       "3  21.0               41.0          5.0  RampageMovie      49.155   \n",
       "4  22.0               27.0          6.0  RampageMovie      40.598   \n",
       "\n",
       "   days since release  weekend    star  theaters  box office per theater  \n",
       "0                97.0      0.0  1721.0      61.0                0.083574  \n",
       "1                98.0      0.0  1721.0      61.0                0.066541  \n",
       "2                99.0      1.0  1721.0     114.0                0.309605  \n",
       "3               100.0      1.0  1721.0     114.0                0.431184  \n",
       "4               101.0      1.0  1721.0     114.0                0.356123  "
      ]
     },
     "execution_count": 2,
     "metadata": {},
     "output_type": "execute_result"
    }
   ],
   "source": [
    "df = pd.read_csv('analysis_results/released_only.csv')\n",
    "\n",
    "df[\"box office per theater\"] = df[\"box office\"]/df[\"theaters\"]\n",
    "\n",
    "df.head()"
   ]
  },
  {
   "cell_type": "code",
   "execution_count": 3,
   "metadata": {},
   "outputs": [],
   "source": [
    "x = df[[\"daily tweet count\",\"weekend\",\"days since release\"]]\n",
    "y = df[\"box office per theater\"].values\n",
    "clf = RandomForestRegressor(n_estimators=2000,max_depth=10).fit( x, y )"
   ]
  },
  {
   "cell_type": "code",
   "execution_count": 4,
   "metadata": {},
   "outputs": [],
   "source": [
    "futurerelease = pd.DataFrame({\"day\":[], \n",
    "                            \"daily tweet count\":[],  \n",
    "                            \"title\":[]})"
   ]
  },
  {
   "cell_type": "code",
   "execution_count": 5,
   "metadata": {},
   "outputs": [
    {
     "name": "stdout",
     "output_type": "stream",
     "text": [
      "processing BlacKkKlansman\n",
      "processing TheMeg\n",
      "processing SlenderManMovie\n",
      "done\n"
     ]
    }
   ],
   "source": [
    "# Dependencies\n",
    "from datetime import datetime\n",
    "from blacklist import blacklist\n",
    "\n",
    "movie_list = [\"BlacKkKlansman\",\"TheMeg\",\"SlenderManMovie\"]\n",
    "\n",
    "for movie in movie_list:\n",
    "    print(f'processing {movie}')\n",
    "    df = pd.read_csv(f\"rawtweets/{movie}.csv\")\n",
    "    blacklist_flag = []\n",
    "    converted_time = []\n",
    "    \n",
    "    for message in df.text:\n",
    "        if any(word in message for word in blacklist): #check if the tweet message contains any of the blacklisted words\n",
    "            blacklist_flag.append(\"yes\")\n",
    "        else:\n",
    "            blacklist_flag.append(\"no\")\n",
    "    \n",
    "    for raw_time in df.rawtime:\n",
    "        converted_time.append(datetime.strptime(str(raw_time), \"%a %b %d %H:%M:%S %z %Y\"))\n",
    "    \n",
    "    df['blacklist'] = blacklist_flag\n",
    "    df['time'] = converted_time\n",
    "    \n",
    "    date = pd.to_datetime(df[\"time\"])\n",
    "    df[\"day\"] = date.dt.day\n",
    "    df[\"month\"] = date.dt.month\n",
    "    for row_index in range(len(df)):\n",
    "        if df.loc[row_index,\"month\"] == 8:\n",
    "            df.loc[row_index,\"day\"] = df.loc[row_index,\"day\"]+31\n",
    "    del df[\"rawtime\"]  \n",
    "    del df[\"month\"]\n",
    "    \n",
    "    df = df.loc[(df[\"blacklist\"] == \"no\") , :].reset_index(drop= True)\n",
    "    del df[\"blacklist\"]\n",
    "    \n",
    "    df.to_csv(f\"processedtweets/{movie}.csv\", index=False, header=True)\n",
    "    \n",
    "    grouped = df.groupby(['day'])\n",
    "    daily_tweet_count = grouped[\"text\"].count()\n",
    "\n",
    "    curr_movie = pd.DataFrame({\"daily tweet count\": daily_tweet_count}).reset_index()\n",
    "    curr_movie['title'] = movie\n",
    "    \n",
    "    #trim out the earliest and most recent day in the twitter data because those days do not have a complete day of tweet record\n",
    "    curr_movie = curr_movie.loc[curr_movie[\"day\"].isin([33,34,35,36,37])].reset_index(drop = True)\n",
    "\n",
    "    futurerelease = pd.concat([futurerelease, curr_movie]).reset_index(drop = True)\n",
    "    \n",
    "print('done')"
   ]
  },
  {
   "cell_type": "code",
   "execution_count": 6,
   "metadata": {},
   "outputs": [],
   "source": [
    "grouped = futurerelease.groupby(\"title\")\n",
    "avgtweet = grouped[\"daily tweet count\"].mean()\n",
    "\n",
    "predictors = pd.DataFrame({\"avg daily tweet\":avgtweet})\n",
    "predictors[\"weekend\"] = 1\n",
    "predictors[\"days since release\"] = 0"
   ]
  },
  {
   "cell_type": "code",
   "execution_count": 7,
   "metadata": {},
   "outputs": [
    {
     "name": "stdout",
     "output_type": "stream",
     "text": [
      "BlacKkKlansman's estimated opening gross: 2.8195793189430995 Thousand Dollars per Theater\n",
      "SlenderManMovie's estimated opening gross: 7.475978808496873 Thousand Dollars per Theater\n",
      "TheMeg's estimated opening gross: 3.981906337888704 Thousand Dollars per Theater\n"
     ]
    }
   ],
   "source": [
    "for i in range(3):\n",
    "    x = pd.DataFrame( predictors.iloc[i,:] ).T\n",
    "    print(f\"{predictors.index[i]}'s estimated opening gross: {clf.predict(x)[0]} Thousand Dollars per Theater\")\n",
    "\n"
   ]
  },
  {
   "cell_type": "markdown",
   "metadata": {},
   "source": [
    "#### The predictions are similar to the results of script 5a which uses a different set of parameters."
   ]
  },
  {
   "cell_type": "code",
   "execution_count": null,
   "metadata": {},
   "outputs": [],
   "source": []
  }
 ],
 "metadata": {
  "kernelspec": {
   "display_name": "Python 3",
   "language": "python",
   "name": "python3"
  },
  "language_info": {
   "codemirror_mode": {
    "name": "ipython",
    "version": 3
   },
   "file_extension": ".py",
   "mimetype": "text/x-python",
   "name": "python",
   "nbconvert_exporter": "python",
   "pygments_lexer": "ipython3",
   "version": "3.6.5"
  }
 },
 "nbformat": 4,
 "nbformat_minor": 2
}
