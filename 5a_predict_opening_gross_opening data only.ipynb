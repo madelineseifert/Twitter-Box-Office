{
 "cells": [
  {
   "cell_type": "markdown",
   "metadata": {},
   "source": [
    "#### This script predicts the opening box office per theater for the films released on August 10th using random forest regressor.\n",
    "\n",
    "#### The regressor is trained on the opening gross of 9 films, as well as the average of their daily tweet mentions on the day before and day of release."
   ]
  },
  {
   "cell_type": "code",
   "execution_count": 1,
   "metadata": {},
   "outputs": [],
   "source": [
    "import numpy as np\n",
    "import pandas as pd\n",
    "import matplotlib.pyplot as plt\n",
    "from sklearn.ensemble import RandomForestRegressor"
   ]
  },
  {
   "cell_type": "code",
   "execution_count": 2,
   "metadata": {},
   "outputs": [
    {
     "data": {
      "text/html": [
       "<div>\n",
       "<style scoped>\n",
       "    .dataframe tbody tr th:only-of-type {\n",
       "        vertical-align: middle;\n",
       "    }\n",
       "\n",
       "    .dataframe tbody tr th {\n",
       "        vertical-align: top;\n",
       "    }\n",
       "\n",
       "    .dataframe thead th {\n",
       "        text-align: right;\n",
       "    }\n",
       "</style>\n",
       "<table border=\"1\" class=\"dataframe\">\n",
       "  <thead>\n",
       "    <tr style=\"text-align: right;\">\n",
       "      <th></th>\n",
       "      <th>title</th>\n",
       "      <th>day -1 tweets</th>\n",
       "      <th>day 0 tweets</th>\n",
       "      <th>theaters</th>\n",
       "      <th>box office</th>\n",
       "      <th>avg tweets</th>\n",
       "      <th>box office per theater</th>\n",
       "    </tr>\n",
       "  </thead>\n",
       "  <tbody>\n",
       "    <tr>\n",
       "      <th>0</th>\n",
       "      <td>Blindspotting</td>\n",
       "      <td>186.0</td>\n",
       "      <td>362.0</td>\n",
       "      <td>14.0</td>\n",
       "      <td>143.178</td>\n",
       "      <td>274.0</td>\n",
       "      <td>10.227000</td>\n",
       "    </tr>\n",
       "    <tr>\n",
       "      <th>1</th>\n",
       "      <td>MammaMia2</td>\n",
       "      <td>1451.0</td>\n",
       "      <td>2867.0</td>\n",
       "      <td>3317.0</td>\n",
       "      <td>14286.815</td>\n",
       "      <td>2159.0</td>\n",
       "      <td>4.307150</td>\n",
       "    </tr>\n",
       "    <tr>\n",
       "      <th>2</th>\n",
       "      <td>TheEqualizer2</td>\n",
       "      <td>623.0</td>\n",
       "      <td>648.0</td>\n",
       "      <td>3388.0</td>\n",
       "      <td>13375.850</td>\n",
       "      <td>635.5</td>\n",
       "      <td>3.948008</td>\n",
       "    </tr>\n",
       "    <tr>\n",
       "      <th>3</th>\n",
       "      <td>UnfriendedMovie</td>\n",
       "      <td>72.0</td>\n",
       "      <td>140.0</td>\n",
       "      <td>1546.0</td>\n",
       "      <td>1401.070</td>\n",
       "      <td>106.0</td>\n",
       "      <td>0.906255</td>\n",
       "    </tr>\n",
       "    <tr>\n",
       "      <th>4</th>\n",
       "      <td>MissionImpossible</td>\n",
       "      <td>1733.0</td>\n",
       "      <td>5409.0</td>\n",
       "      <td>4386.0</td>\n",
       "      <td>22803.458</td>\n",
       "      <td>3571.0</td>\n",
       "      <td>5.199147</td>\n",
       "    </tr>\n",
       "    <tr>\n",
       "      <th>5</th>\n",
       "      <td>TeenTitansGOMovie</td>\n",
       "      <td>643.0</td>\n",
       "      <td>1470.0</td>\n",
       "      <td>3188.0</td>\n",
       "      <td>4239.719</td>\n",
       "      <td>1056.5</td>\n",
       "      <td>1.329899</td>\n",
       "    </tr>\n",
       "    <tr>\n",
       "      <th>6</th>\n",
       "      <td>ChristopherRobin</td>\n",
       "      <td>3225.0</td>\n",
       "      <td>4494.0</td>\n",
       "      <td>3602.0</td>\n",
       "      <td>9514.392</td>\n",
       "      <td>3859.5</td>\n",
       "      <td>2.641419</td>\n",
       "    </tr>\n",
       "    <tr>\n",
       "      <th>7</th>\n",
       "      <td>nevergoinback</td>\n",
       "      <td>19.0</td>\n",
       "      <td>34.0</td>\n",
       "      <td>2.0</td>\n",
       "      <td>4.280</td>\n",
       "      <td>26.5</td>\n",
       "      <td>2.140000</td>\n",
       "    </tr>\n",
       "    <tr>\n",
       "      <th>8</th>\n",
       "      <td>TheSpyWhoDumpedMe</td>\n",
       "      <td>190.0</td>\n",
       "      <td>517.0</td>\n",
       "      <td>3111.0</td>\n",
       "      <td>5011.316</td>\n",
       "      <td>353.5</td>\n",
       "      <td>1.610838</td>\n",
       "    </tr>\n",
       "  </tbody>\n",
       "</table>\n",
       "</div>"
      ],
      "text/plain": [
       "               title  day -1 tweets  day 0 tweets  theaters  box office  \\\n",
       "0      Blindspotting          186.0         362.0      14.0     143.178   \n",
       "1          MammaMia2         1451.0        2867.0    3317.0   14286.815   \n",
       "2      TheEqualizer2          623.0         648.0    3388.0   13375.850   \n",
       "3    UnfriendedMovie           72.0         140.0    1546.0    1401.070   \n",
       "4  MissionImpossible         1733.0        5409.0    4386.0   22803.458   \n",
       "5  TeenTitansGOMovie          643.0        1470.0    3188.0    4239.719   \n",
       "6   ChristopherRobin         3225.0        4494.0    3602.0    9514.392   \n",
       "7      nevergoinback           19.0          34.0       2.0       4.280   \n",
       "8  TheSpyWhoDumpedMe          190.0         517.0    3111.0    5011.316   \n",
       "\n",
       "   avg tweets  box office per theater  \n",
       "0       274.0               10.227000  \n",
       "1      2159.0                4.307150  \n",
       "2       635.5                3.948008  \n",
       "3       106.0                0.906255  \n",
       "4      3571.0                5.199147  \n",
       "5      1056.5                1.329899  \n",
       "6      3859.5                2.641419  \n",
       "7        26.5                2.140000  \n",
       "8       353.5                1.610838  "
      ]
     },
     "execution_count": 2,
     "metadata": {},
     "output_type": "execute_result"
    }
   ],
   "source": [
    "df = pd.read_csv('analysis_results/all_data.csv')\n",
    "df[\"box office\"] = df[\"box office\"]/1000\n",
    "\n",
    "dayof = df.loc[df[\"days since release\"] == 0].reset_index(drop = True)\n",
    "dayof = dayof.rename(columns={\"daily tweet count\":\"day 0 tweets\"})\n",
    "dayof = dayof[[\"title\",\"day 0 tweets\", \"theaters\", \"box office\"]]\n",
    "\n",
    "daybefore = df.loc[df[\"days since release\"] == -1].reset_index(drop = True)\n",
    "daybefore = daybefore.rename(columns={\"daily tweet count\":\"day -1 tweets\"})\n",
    "daybefore = daybefore[[\"title\",\"day -1 tweets\"]]\n",
    "\n",
    "projection = pd.merge(daybefore, dayof, on = \"title\")\n",
    "projection[\"avg tweets\"] = (projection[\"day -1 tweets\"] + projection[\"day 0 tweets\"])/2\n",
    "projection[\"box office per theater\"] = projection[\"box office\"]/projection[\"theaters\"]\n",
    "projection"
   ]
  },
  {
   "cell_type": "code",
   "execution_count": 3,
   "metadata": {},
   "outputs": [],
   "source": [
    "x = projection[[\"avg tweets\"]]\n",
    "y = projection[\"box office per theater\"].values\n",
    "clf = RandomForestRegressor(n_estimators=2000,max_depth=10).fit( x, y )"
   ]
  },
  {
   "cell_type": "code",
   "execution_count": 4,
   "metadata": {},
   "outputs": [],
   "source": [
    "predictors = pd.DataFrame({\"day\":[], \n",
    "                            \"daily tweet count\":[],  \n",
    "                            \"title\":[]})"
   ]
  },
  {
   "cell_type": "code",
   "execution_count": 5,
   "metadata": {},
   "outputs": [
    {
     "name": "stdout",
     "output_type": "stream",
     "text": [
      "processing BlacKkKlansman\n",
      "processing TheMeg\n",
      "processing SlenderManMovie\n",
      "done\n"
     ]
    }
   ],
   "source": [
    "# Dependencies\n",
    "from datetime import datetime\n",
    "from blacklist import blacklist\n",
    "\n",
    "movie_list = [\"BlacKkKlansman\",\"TheMeg\",\"SlenderManMovie\"]\n",
    "\n",
    "for movie in movie_list:\n",
    "    print(f'processing {movie}')\n",
    "    df = pd.read_csv(f\"rawtweets/{movie}.csv\")\n",
    "    blacklist_flag = []\n",
    "    converted_time = []\n",
    "    \n",
    "    for message in df.text:\n",
    "        if any(word in message for word in blacklist): #check if the tweet message contains any of the blacklisted words\n",
    "            blacklist_flag.append(\"yes\")\n",
    "        else:\n",
    "            blacklist_flag.append(\"no\")\n",
    "    \n",
    "    for raw_time in df.rawtime:\n",
    "        converted_time.append(datetime.strptime(str(raw_time), \"%a %b %d %H:%M:%S %z %Y\"))\n",
    "    \n",
    "    df['blacklist'] = blacklist_flag\n",
    "    df['time'] = converted_time\n",
    "    \n",
    "    date = pd.to_datetime(df[\"time\"])\n",
    "    df[\"day\"] = date.dt.day\n",
    "    df[\"month\"] = date.dt.month\n",
    "    for row_index in range(len(df)):\n",
    "        if df.loc[row_index,\"month\"] == 8:\n",
    "            df.loc[row_index,\"day\"] = df.loc[row_index,\"day\"]+31\n",
    "    del df[\"rawtime\"]  \n",
    "    del df[\"month\"]\n",
    "    \n",
    "    df = df.loc[(df[\"blacklist\"] == \"no\") , :].reset_index(drop= True)\n",
    "    del df[\"blacklist\"]\n",
    "    \n",
    "    df.to_csv(f\"processedtweets/{movie}.csv\", index=False, header=True)\n",
    "    \n",
    "    grouped = df.groupby(['day'])\n",
    "    daily_tweet_count = grouped[\"text\"].count()\n",
    "\n",
    "    curr_movie = pd.DataFrame({\"daily tweet count\": daily_tweet_count}).reset_index()\n",
    "    curr_movie['title'] = movie\n",
    "    \n",
    "    #trim out the earliest and most recent day in the twitter data because those days do not have a complete day of tweet record\n",
    "    curr_movie = curr_movie.loc[curr_movie[\"day\"].isin([33,34,35,36,37])].reset_index(drop = True)\n",
    "\n",
    "    predictors = pd.concat([predictors, curr_movie]).reset_index(drop = True)\n",
    "    \n",
    "print('done')"
   ]
  },
  {
   "cell_type": "code",
   "execution_count": 6,
   "metadata": {},
   "outputs": [],
   "source": [
    "grouped = predictors.groupby(\"title\")\n",
    "avgtweet = grouped[\"daily tweet count\"].mean()\n",
    "\n"
   ]
  },
  {
   "cell_type": "code",
   "execution_count": 7,
   "metadata": {},
   "outputs": [
    {
     "name": "stdout",
     "output_type": "stream",
     "text": [
      "BlacKkKlansman's estimated opening gross: 2.856648877890078 Thousand Dollars per Theater\n",
      "SlenderManMovie's estimated opening gross: 7.267020688977805 Thousand Dollars per Theater\n",
      "TheMeg's estimated opening gross: 3.917798580959757 Thousand Dollars per Theater\n"
     ]
    }
   ],
   "source": [
    "print(f\"{avgtweet.index[0]}'s estimated opening gross: {clf.predict(avgtweet[0]) [0]} Thousand Dollars per Theater\")\n",
    "print(f\"{avgtweet.index[1]}'s estimated opening gross: {clf.predict(avgtweet[1]) [0]} Thousand Dollars per Theater\")\n",
    "print(f\"{avgtweet.index[2]}'s estimated opening gross: {clf.predict(avgtweet[2]) [0]} Thousand Dollars per Theater\")"
   ]
  },
  {
   "cell_type": "markdown",
   "metadata": {},
   "source": [
    "#### The predictions are similar to the results of script 5b which uses a different set of parameters."
   ]
  },
  {
   "cell_type": "code",
   "execution_count": null,
   "metadata": {},
   "outputs": [],
   "source": []
  }
 ],
 "metadata": {
  "kernelspec": {
   "display_name": "Python 3",
   "language": "python",
   "name": "python3"
  },
  "language_info": {
   "codemirror_mode": {
    "name": "ipython",
    "version": 3
   },
   "file_extension": ".py",
   "mimetype": "text/x-python",
   "name": "python",
   "nbconvert_exporter": "python",
   "pygments_lexer": "ipython3",
   "version": "3.6.5"
  }
 },
 "nbformat": 4,
 "nbformat_minor": 2
}
