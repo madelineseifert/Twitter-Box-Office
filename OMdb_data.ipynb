{
 "cells": [
  {
   "cell_type": "code",
   "execution_count": 1,
   "metadata": {},
   "outputs": [],
   "source": [
    "import pandas as pd\n",
    "import pprint\n",
    "import requests\n",
    "import json\n",
    "import omdb\n",
    "from movies import movies"
   ]
  },
  {
   "cell_type": "code",
   "execution_count": 2,
   "metadata": {},
   "outputs": [],
   "source": [
    "url = \"http://www.omdbapi.com/?apikey=trilogy&t=\""
   ]
  },
  {
   "cell_type": "code",
   "execution_count": 3,
   "metadata": {},
   "outputs": [
    {
     "data": {
      "text/html": [
       "<div>\n",
       "<style scoped>\n",
       "    .dataframe tbody tr th:only-of-type {\n",
       "        vertical-align: middle;\n",
       "    }\n",
       "\n",
       "    .dataframe tbody tr th {\n",
       "        vertical-align: top;\n",
       "    }\n",
       "\n",
       "    .dataframe thead th {\n",
       "        text-align: right;\n",
       "    }\n",
       "</style>\n",
       "<table border=\"1\" class=\"dataframe\">\n",
       "  <thead>\n",
       "    <tr style=\"text-align: right;\">\n",
       "      <th></th>\n",
       "      <th>Movie Title</th>\n",
       "    </tr>\n",
       "  </thead>\n",
       "  <tbody>\n",
       "    <tr>\n",
       "      <th>0</th>\n",
       "      <td>Rampage</td>\n",
       "    </tr>\n",
       "    <tr>\n",
       "      <th>1</th>\n",
       "      <td>Avengers: Inifity War</td>\n",
       "    </tr>\n",
       "    <tr>\n",
       "      <th>2</th>\n",
       "      <td>Deadpool 2</td>\n",
       "    </tr>\n",
       "    <tr>\n",
       "      <th>3</th>\n",
       "      <td>Show Dogs</td>\n",
       "    </tr>\n",
       "    <tr>\n",
       "      <th>4</th>\n",
       "      <td>Adrift</td>\n",
       "    </tr>\n",
       "  </tbody>\n",
       "</table>\n",
       "</div>"
      ],
      "text/plain": [
       "             Movie Title\n",
       "0                Rampage\n",
       "1  Avengers: Inifity War\n",
       "2             Deadpool 2\n",
       "3              Show Dogs\n",
       "4                 Adrift"
      ]
     },
     "execution_count": 3,
     "metadata": {},
     "output_type": "execute_result"
    }
   ],
   "source": [
    "actor_data = {\"Movie Title\": movies}\n",
    "actors_df = pd.DataFrame(actor_data)\n",
    "actors_df.head()"
   ]
  },
  {
   "cell_type": "code",
   "execution_count": 4,
   "metadata": {},
   "outputs": [
    {
     "name": "stderr",
     "output_type": "stream",
     "text": [
      "/anaconda3/lib/python3.6/site-packages/ipykernel_launcher.py:8: FutureWarning: set_value is deprecated and will be removed in a future release. Please use .at[] or .iat[] accessors instead\n",
      "  \n",
      "/anaconda3/lib/python3.6/site-packages/ipykernel_launcher.py:10: FutureWarning: set_value is deprecated and will be removed in a future release. Please use .at[] or .iat[] accessors instead\n",
      "  # Remove the CWD from sys.path while we load stuff.\n"
     ]
    },
    {
     "name": "stdout",
     "output_type": "stream",
     "text": [
      "NaN\n",
      "NaN\n",
      "NaN\n",
      "NaN\n",
      "NaN\n"
     ]
    }
   ],
   "source": [
    "\n",
    "for index, row in actors_df.iterrows():\n",
    "    movie = row[\"Movie Title\"]\n",
    "    movie_data = requests.get(url + movie).json()\n",
    "    \n",
    "    try:\n",
    "        \n",
    "        actors_df.set_value(index, \"Actors\", movie_data[\"Actors\"])\n",
    "        \n",
    "        actors_df.set_value(index, \"Director\", movie_data[\"Director\"])\n",
    "        \n",
    "        \n",
    "    except:\n",
    "        print(\"NaN\")\n",
    "        "
   ]
  },
  {
   "cell_type": "code",
   "execution_count": 5,
   "metadata": {},
   "outputs": [
    {
     "name": "stdout",
     "output_type": "stream",
     "text": [
      "                                   Movie Title  \\\n",
      "0                                      Rampage   \n",
      "1                        Avengers: Inifity War   \n",
      "2                                   Deadpool 2   \n",
      "3                                    Show Dogs   \n",
      "4                                       Adrift   \n",
      "5                                   Hereditary   \n",
      "6                                    Ocean's 8   \n",
      "7                     Won't You Be My Neighbor   \n",
      "8                                        Gotti   \n",
      "9                                          Tag   \n",
      "10              Jurassic World: Fallen Kingdom   \n",
      "11                              Leave No Trace   \n",
      "12                                       Sanju   \n",
      "13                 Sicario: Day of the Soldado   \n",
      "14                                  Uncle Drew   \n",
      "15                             The First Purge   \n",
      "16                        Ant-Man and The Wasp   \n",
      "17                         Sorry To Bother You   \n",
      "18                                      Soorma   \n",
      "19                                Eighth Grade   \n",
      "20       Hotel Transylvania 3: Summer Vacation   \n",
      "21                                  Skyscraper   \n",
      "22                               Incredibles 2   \n",
      "23                               Blindspotting   \n",
      "24                 Mamma Mia! Here We Go Again   \n",
      "25                             The Equalizer 2   \n",
      "26                         Unfriended: Darkweb   \n",
      "27                  Mission Impossible Fallout   \n",
      "28  Scotty and the Secret History of Hollywood   \n",
      "29               Teen Titans GO! To the Movies   \n",
      "30                   Saheb Biwi Aur Gangster 3   \n",
      "31                  Disney's Christopher Robin   \n",
      "32                           The Darkest Minds   \n",
      "33                            Never Goin' Back   \n",
      "34                       The Spy Who Dumped Me   \n",
      "\n",
      "                                               Actors  \\\n",
      "0   Dwayne Johnson, Naomie Harris, Malin Akerman, ...   \n",
      "1                                                 NaN   \n",
      "2   Ryan Reynolds, Josh Brolin, Morena Baccarin, J...   \n",
      "3   Alan Cumming, Will Arnett, Stanley Tucci, Nata...   \n",
      "4   Shailene Woodley, Sam Claflin, Grace Palmer, J...   \n",
      "5   Alex Wolff, Gabriel Byrne, Toni Collette, Mill...   \n",
      "6                                                 NaN   \n",
      "7   Joanne Rogers, Betty Aberlin, McColm Cephas Jr...   \n",
      "8   Armand Assante, William Forsythe, Richard C. S...   \n",
      "9   Ed Helms, Lil Rel Howery, Jon Hamm, Annabelle ...   \n",
      "10  Chris Pratt, Bryce Dallas Howard, Rafe Spall, ...   \n",
      "11  Thomasin McKenzie, Ben Foster, Jeffery Rifflar...   \n",
      "12  Ranbir Kapoor, Paresh Rawal, Manisha Koirala, ...   \n",
      "13                                                NaN   \n",
      "14  Kyrie Irving, Lil Rel Howery, Shaquille O'Neal...   \n",
      "15    Y'lan Noel, Lex Scott Davis, Joivan Wade, Mugga   \n",
      "16  Paul Rudd, Evangeline Lilly, Michael Peña, Wal...   \n",
      "17  Lakeith Stanfield, Tessa Thompson, Jermaine Fo...   \n",
      "18  Diljit Dosanjh, Tapsee Pannu, Angad Bedi, Dani...   \n",
      "19  Josh Hamilton, Elsie Fisher, Emily Robinson, D...   \n",
      "20  Adam Sandler, Andy Samberg, Selena Gomez, Kevi...   \n",
      "21  Dwayne Johnson, Neve Campbell, Chin Han, Rolan...   \n",
      "22  Craig T. Nelson, Holly Hunter, Sarah Vowell, H...   \n",
      "23  Daveed Diggs, Rafael Casal, Janina Gavankar, J...   \n",
      "24  Lily James, Amanda Seyfried, Meryl Streep, Dom...   \n",
      "25  Pedro Pascal, Denzel Washington, Bill Pullman,...   \n",
      "26                                                NaN   \n",
      "27  Tom Cruise, Rebecca Ferguson, Henry Cavill, Mi...   \n",
      "28  Peter Bart, Scotty Bowers, Robert Hofler, Will...   \n",
      "29  Kristen Bell, Nicolas Cage, Tara Strong, Will ...   \n",
      "30  Jimmy Sheirgill, Sanjay Dutt, Mahie Gill, Chit...   \n",
      "31                                                NaN   \n",
      "32  Bradley Whitford, Mandy Moore, Amandla Stenber...   \n",
      "33  Maia Mitchell, Camila Morrone, Kyle Mooney, Ar...   \n",
      "34  Mila Kunis, Sam Heughan, Kate McKinnon, Justin...   \n",
      "\n",
      "                             Director  \n",
      "0                         Brad Peyton  \n",
      "1                                 NaN  \n",
      "2                        David Leitch  \n",
      "3                        Raja Gosnell  \n",
      "4                   Baltasar Kormákur  \n",
      "5                           Ari Aster  \n",
      "6                                 NaN  \n",
      "7                      Morgan Neville  \n",
      "8                       Robert Harmon  \n",
      "9                         Jeff Tomsic  \n",
      "10                        J.A. Bayona  \n",
      "11                       Debra Granik  \n",
      "12                    Rajkumar Hirani  \n",
      "13                                NaN  \n",
      "14                  Charles Stone III  \n",
      "15                    Gerard McMurray  \n",
      "16                        Peyton Reed  \n",
      "17                        Boots Riley  \n",
      "18                          Shaad Ali  \n",
      "19                         Bo Burnham  \n",
      "20                 Genndy Tartakovsky  \n",
      "21            Rawson Marshall Thurber  \n",
      "22                          Brad Bird  \n",
      "23               Carlos López Estrada  \n",
      "24                          Ol Parker  \n",
      "25                      Antoine Fuqua  \n",
      "26                                NaN  \n",
      "27              Christopher McQuarrie  \n",
      "28                      Matt Tyrnauer  \n",
      "29  Aaron Horvath, Peter Rida Michail  \n",
      "30                   Tigmanshu Dhulia  \n",
      "31                                NaN  \n",
      "32                Jennifer Yuh Nelson  \n",
      "33                 Augustine Frizzell  \n",
      "34                      Susanna Fogel  \n"
     ]
    }
   ],
   "source": [
    "print(actors_df)"
   ]
  },
  {
   "cell_type": "code",
   "execution_count": 6,
   "metadata": {},
   "outputs": [],
   "source": [
    "output = \"Actor_data.csv\"\n",
    "\n",
    "actors_df.to_csv(output, index = False, header = True)"
   ]
  },
  {
   "cell_type": "code",
   "execution_count": null,
   "metadata": {},
   "outputs": [],
   "source": []
  }
 ],
 "metadata": {
  "kernelspec": {
   "display_name": "Python 3",
   "language": "python",
   "name": "python3"
  },
  "language_info": {
   "codemirror_mode": {
    "name": "ipython",
    "version": 3
   },
   "file_extension": ".py",
   "mimetype": "text/x-python",
   "name": "python",
   "nbconvert_exporter": "python",
   "pygments_lexer": "ipython3",
   "version": "3.6.5"
  }
 },
 "nbformat": 4,
 "nbformat_minor": 2
}
