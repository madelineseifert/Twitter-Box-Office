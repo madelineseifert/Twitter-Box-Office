{
 "cells": [
  {
   "cell_type": "markdown",
   "metadata": {},
   "source": [
    "This script uses the twitter api wrapper Tweepy to pull tweets mentioning movies currently in theater or about to be released in theater. \n",
    "\n",
    "The script looks into the folder storing previously pulled twitter data for what's the most recent tweet retrieved in the previous session, and stop the api call when reaching that tweet.\n",
    "\n",
    "For each movie, this script outputs a csv file containing the tweet text messages and their respective timestamp, aggregating tweets retrieved this session and all previous sessions, newest tweets on top.\n",
    "\n",
    "An additional text file is saved for each movie, to track the id of the most tweet retrieved mentioning that movie."
   ]
  },
  {
   "cell_type": "code",
   "execution_count": null,
   "metadata": {},
   "outputs": [],
   "source": [
    "# Dependencies\n",
    "import tweepy\n",
    "import pandas as pd\n",
    "import numpy as np\n",
    "from datetime import datetime\n",
    "from twitter_hashtag import singletag, doubletag\n",
    "import time\n",
    "\n",
    "# Twitter API Keys\n",
    "from twitter_config import (consumer_key, consumer_secret, access_token, access_token_secret)\n",
    "\n",
    "# Setup Tweepy API Authentication\n",
    "auth = tweepy.OAuthHandler(consumer_key, consumer_secret)\n",
    "auth.set_access_token(access_token, access_token_secret)\n",
    "api = tweepy.API(auth, parser=tweepy.parsers.JSONParser())"
   ]
  },
  {
   "cell_type": "code",
   "execution_count": null,
   "metadata": {},
   "outputs": [],
   "source": [
    "def pulldata(movie, stopat, poster, text, raw_time_list, id_list):\n",
    "#input argument is the movie hashtag string, and the most recent tweet id previusly retrieved for this movie\n",
    "\n",
    "    oldest_tweet = None\n",
    "    keeprunning = True\n",
    "    repetition = 0 #a counter to display how many iterations have passed\n",
    "\n",
    "    while(keeprunning == True): #keep running until the end condition is met and changes keeprunning false\n",
    "        try:\n",
    "            tweets = api.search(\"#\"+movie, count=100, result_type=\"recent\", max_id=oldest_tweet) #query 100 tweets each iteration, newest first\n",
    "\n",
    "            for t in tweets[\"statuses\"]: #goes through each of the 100 tweets returned\n",
    "                if t[\"id\"] <= stopat: #once the tweet id is less than (older) than the most recent tweet id from the last sesson, set keep running to false to stop the while loop\n",
    "                    keeprunning = False\n",
    "                else:\n",
    "                    if(t[\"user\"][\"statuses_count\"] > 5 \n",
    "                        and t[\"user\"][\"statuses_count\"] < 20000 #filter twitter account with too few or too many messages\n",
    "                        and t[\"user\"][\"lang\"] == \"en\" #only keep english accounts\n",
    "                        and t[\"user\"][\"screen_name\"] not in poster): #and only keep tweets from users not archived in this session\n",
    "\n",
    "                        poster.append(t[\"user\"][\"screen_name\"]) #append the user name to the list to prevent the same person's message from being archived this session\n",
    "                        raw_time_list.append(t[\"created_at\"]) \n",
    "                        id_list.append(t[\"id\"]) \n",
    "                        message = t[\"text\"] \n",
    "                        text.append(message)\n",
    "\n",
    "                oldest_tweet = t[\"id\"] - 1 #update oldest_tweet for the next query call\n",
    "        except:\n",
    "            continue\n",
    "\n",
    "        repetition += 1\n",
    "        now = datetime.now().strftime(\"%m-%d-%Y %H:%M:%S\")\n",
    "        print(f\"the time is now {now}, finished request {repetition} of {movie}. I'm still running, please don't close me.\")\n",
    "        time.sleep(5.1) #pause for 5.1 seconds. twitter api has a rate limit of 180 calls per 15 min\n",
    "    print(\"all loops done\")\n",
    "    return poster, text, raw_time_list, id_list"
   ]
  },
  {
   "cell_type": "code",
   "execution_count": null,
   "metadata": {},
   "outputs": [],
   "source": [
    "def tweevie(movie): \n",
    "    with open(f\"rawtweets/{movie}.txt\", 'r') as text:\n",
    "        latest_tweet = int(text.read()) #open the text file recording the id of the most recent tweet retrieved previously.\n",
    "    \n",
    "    poster=[]\n",
    "    text=[]\n",
    "    raw_time_list=[]\n",
    "    id_list=[]\n",
    "    \n",
    "    (poster, text, raw_time_list, id_list) = pulldata(movie, latest_tweet, poster, text, raw_time_list, id_list) \n",
    "    #pass most recent tweet as an argument into the function, current sessions retrieval stops when reaching this id\n",
    "\n",
    "    df = pd.DataFrame({\"text\": text, \"rawtime\": raw_time_list}) #make the data frame\n",
    "    df = df[[\"text\",\"rawtime\"]] #order the columns\n",
    "\n",
    "    old_df = pd.DataFrame(pd.read_csv(f\"rawtweets/{movie}.csv\")) #load data previously saved for this movie\n",
    "    combined_df = pd.concat([df, old_df]).reset_index(drop = True) #concatenate the new df on top of the old one\n",
    "    combined_df.to_csv(f\"rawtweets/{movie}.csv\", index=False, header=True)\n",
    "    \n",
    "    try: #include a try-except clause in case there were no new tweets (list is empty)\n",
    "        latest_tweet = np.max(id_list) #max id from the tweets will be the most recent tweet id. Next retrieval session will stop at this id\n",
    "    except:\n",
    "        pass\n",
    "    with open(f\"rawtweets/{movie}.txt\", 'w') as text:\n",
    "        text.write(str(latest_tweet)) #write the latest tweet id to the text file for next session's use\n",
    "\n"
   ]
  },
  {
   "cell_type": "code",
   "execution_count": null,
   "metadata": {},
   "outputs": [],
   "source": [
    "def tweevie2(movie, movie_alt): #for handling movies with two official hashtags\n",
    "    with open(f\"rawtweets/{movie}.txt\", 'r') as text:\n",
    "        latest_tweet = int(text.read())\n",
    "    \n",
    "    poster=[]\n",
    "    text=[]\n",
    "    raw_time_list=[]\n",
    "    id_list=[]\n",
    "    \n",
    "    (poster, text, raw_time_list, id_list) = pulldata(movie, latest_tweet, poster, text, raw_time_list, id_list)\n",
    "    (poster, text, raw_time_list, id_list) = pulldata(movie_alt, latest_tweet, poster, text, raw_time_list, id_list) \n",
    "    #include returned lists from the first hashtag to append\n",
    "    \n",
    "    df = pd.DataFrame({\"text\": text, \"rawtime\": raw_time_list, \"id\":id_list}) #make the data frame, include id this time\n",
    "    df = df[[\"text\",\"rawtime\",\"id\"]] \n",
    "    df = df.sort_values([\"id\"], ascending=False).reset_index(drop=True) #sort by id so the data retrieved for the two hashtags are ordered by time, most recent first\n",
    "    del df[\"id\"] #drop the id column because it's not stored in the csv\n",
    "\n",
    "    old_df = pd.DataFrame(pd.read_csv(f\"rawtweets/{movie}.csv\")) \n",
    "    combined_df = pd.concat([df, old_df]).reset_index(drop = True) \n",
    "    combined_df.to_csv(f\"rawtweets/{movie}.csv\", index=False, header=True)\n",
    "    \n",
    "    try:\n",
    "        latest_tweet = np.max(id_list)\n",
    "    except:\n",
    "        pass\n",
    "    with open(f\"rawtweets/{movie}.txt\", 'w') as text:\n",
    "        text.write(str(latest_tweet)) \n",
    "\n"
   ]
  },
  {
   "cell_type": "code",
   "execution_count": null,
   "metadata": {},
   "outputs": [],
   "source": [
    "for movie in singletag:\n",
    "    tweevie(movie)"
   ]
  },
  {
   "cell_type": "code",
   "execution_count": null,
   "metadata": {},
   "outputs": [],
   "source": [
    "for movie_tuple in doubletag:\n",
    "    movie = movie_tuple[0] #each item in the list is a tuple, first item in the tuple is the main hashtag, second item is the alt hashtag\n",
    "    movie_alt = movie_tuple[1]\n",
    "    tweevie2(movie, movie_alt) "
   ]
  },
  {
   "cell_type": "code",
   "execution_count": null,
   "metadata": {},
   "outputs": [],
   "source": []
  }
 ],
 "metadata": {
  "kernelspec": {
   "display_name": "Python 3",
   "language": "python",
   "name": "python3"
  },
  "language_info": {
   "codemirror_mode": {
    "name": "ipython",
    "version": 3
   },
   "file_extension": ".py",
   "mimetype": "text/x-python",
   "name": "python",
   "nbconvert_exporter": "python",
   "pygments_lexer": "ipython3",
   "version": "3.6.5"
  }
 },
 "nbformat": 4,
 "nbformat_minor": 2
}
